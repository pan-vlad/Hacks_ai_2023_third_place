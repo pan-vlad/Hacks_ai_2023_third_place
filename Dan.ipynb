{
 "cells": [
  {
   "cell_type": "code",
   "execution_count": 26,
   "metadata": {},
   "outputs": [],
   "source": [
    "import pandas as pd\n",
    "from sentence_transformers import SentenceTransformer, util #for paraphrase_mining\n",
    "from tqdm import tqdm\n",
    "from sklearn.metrics.pairwise import cosine_similarity\n",
    "from sklearn.model_selection import train_test_split\n",
    "import lightgbm as ltb\n",
    "from sentence_transformers import SentenceTransformer\n",
    "import nltk\n",
    "import re"
   ]
  },
  {
   "cell_type": "code",
   "execution_count": 39,
   "metadata": {},
   "outputs": [
    {
     "data": {
      "text/html": [
       "<div>\n",
       "<style scoped>\n",
       "    .dataframe tbody tr th:only-of-type {\n",
       "        vertical-align: middle;\n",
       "    }\n",
       "\n",
       "    .dataframe tbody tr th {\n",
       "        vertical-align: top;\n",
       "    }\n",
       "\n",
       "    .dataframe thead th {\n",
       "        text-align: right;\n",
       "    }\n",
       "</style>\n",
       "<table border=\"1\" class=\"dataframe\">\n",
       "  <thead>\n",
       "    <tr style=\"text-align: right;\">\n",
       "      <th></th>\n",
       "      <th>Содержание</th>\n",
       "      <th>Сервис</th>\n",
       "      <th>Приоритет</th>\n",
       "      <th>Статус</th>\n",
       "      <th>Функциональная группа</th>\n",
       "      <th>Крайний срок</th>\n",
       "      <th>Дата обращения</th>\n",
       "      <th>Тип обращения на момент подачи</th>\n",
       "      <th>Тип обращения итоговый</th>\n",
       "      <th>Решение</th>\n",
       "      <th>Тип переклассификации</th>\n",
       "      <th>Дата восстановления</th>\n",
       "      <th>Дата закрытия обращения</th>\n",
       "      <th>Критичность</th>\n",
       "      <th>Влияние</th>\n",
       "      <th>Система</th>\n",
       "      <th>Место</th>\n",
       "      <th>Тип обращения итоговый 01</th>\n",
       "    </tr>\n",
       "  </thead>\n",
       "  <tbody>\n",
       "    <tr>\n",
       "      <th>0</th>\n",
       "      <td>Тест</td>\n",
       "      <td>АРМ</td>\n",
       "      <td>3-Низкий</td>\n",
       "      <td>Отменен</td>\n",
       "      <td>ФГ1</td>\n",
       "      <td>2018-01-24 07:42:00</td>\n",
       "      <td>2018-01-19 09:27:00</td>\n",
       "      <td>Запрос</td>\n",
       "      <td>Запрос</td>\n",
       "      <td>Тест</td>\n",
       "      <td>0</td>\n",
       "      <td>NaN</td>\n",
       "      <td>2018-01-19 09:43:00</td>\n",
       "      <td>4-Нет</td>\n",
       "      <td>3-Малое</td>\n",
       "      <td>База</td>\n",
       "      <td>К</td>\n",
       "      <td>0</td>\n",
       "    </tr>\n",
       "    <tr>\n",
       "      <th>1</th>\n",
       "      <td>Тестовое обращение</td>\n",
       "      <td>АРМ</td>\n",
       "      <td>3-Низкий</td>\n",
       "      <td>Отменен</td>\n",
       "      <td>ФГ1</td>\n",
       "      <td>2018-01-24 10:51:00</td>\n",
       "      <td>2018-01-19 09:36:00</td>\n",
       "      <td>Запрос</td>\n",
       "      <td>Запрос</td>\n",
       "      <td>Тест</td>\n",
       "      <td>0</td>\n",
       "      <td>NaN</td>\n",
       "      <td>2018-01-19 09:41:00</td>\n",
       "      <td>4-Нет</td>\n",
       "      <td>3-Малое</td>\n",
       "      <td>База</td>\n",
       "      <td>К</td>\n",
       "      <td>0</td>\n",
       "    </tr>\n",
       "    <tr>\n",
       "      <th>2</th>\n",
       "      <td>Выполнена разблокировка у/з REGION\\*****</td>\n",
       "      <td>Сервис7</td>\n",
       "      <td>2-Средний</td>\n",
       "      <td>Закрыт</td>\n",
       "      <td>ФГ8</td>\n",
       "      <td>2018-01-31 07:51:00</td>\n",
       "      <td>2018-01-25 22:47:00</td>\n",
       "      <td>Запрос</td>\n",
       "      <td>Запрос</td>\n",
       "      <td>Выполнена разблокировка у/з Ne_bosS\\*********\\...</td>\n",
       "      <td>0</td>\n",
       "      <td>2018-01-25 22:47</td>\n",
       "      <td>2018-02-02 07:52:00</td>\n",
       "      <td>1-Особая</td>\n",
       "      <td>3-Малое</td>\n",
       "      <td>Система7</td>\n",
       "      <td>Место190</td>\n",
       "      <td>0</td>\n",
       "    </tr>\n",
       "    <tr>\n",
       "      <th>3</th>\n",
       "      <td>.Не включается ПК</td>\n",
       "      <td>АРМ</td>\n",
       "      <td>3-Низкий</td>\n",
       "      <td>Закрыт</td>\n",
       "      <td>ФГ390</td>\n",
       "      <td>2018-01-28 05:50:00</td>\n",
       "      <td>2018-01-25 23:13:00</td>\n",
       "      <td>Инцидент</td>\n",
       "      <td>Инцидент</td>\n",
       "      <td>Выход из стоя БП. Заменён.</td>\n",
       "      <td>0</td>\n",
       "      <td>2018-01-25 23:55</td>\n",
       "      <td>2018-01-26 00:00:00</td>\n",
       "      <td>4-Нет</td>\n",
       "      <td>3-Малое</td>\n",
       "      <td>База</td>\n",
       "      <td>Место177</td>\n",
       "      <td>1</td>\n",
       "    </tr>\n",
       "    <tr>\n",
       "      <th>4</th>\n",
       "      <td>Заявка № ***********, *******************</td>\n",
       "      <td>АРМ</td>\n",
       "      <td>3-Низкий</td>\n",
       "      <td>Закрыт</td>\n",
       "      <td>ФГ303</td>\n",
       "      <td>2018-02-03 02:51:00</td>\n",
       "      <td>2018-01-25 23:39:00</td>\n",
       "      <td>Запрос</td>\n",
       "      <td>Запрос</td>\n",
       "      <td>Работы по обращению выполнены</td>\n",
       "      <td>0</td>\n",
       "      <td>2018-01-28 02:54</td>\n",
       "      <td>2018-02-04 07:53:00</td>\n",
       "      <td>4-Нет</td>\n",
       "      <td>4-Нет влияния</td>\n",
       "      <td>База</td>\n",
       "      <td>Место216</td>\n",
       "      <td>0</td>\n",
       "    </tr>\n",
       "  </tbody>\n",
       "</table>\n",
       "</div>"
      ],
      "text/plain": [
       "                                  Содержание   Сервис  Приоритет   Статус   \n",
       "0                                       Тест      АРМ   3-Низкий  Отменен  \\\n",
       "1                         Тестовое обращение      АРМ   3-Низкий  Отменен   \n",
       "2   Выполнена разблокировка у/з REGION\\*****  Сервис7  2-Средний   Закрыт   \n",
       "3                          .Не включается ПК      АРМ   3-Низкий   Закрыт   \n",
       "4  Заявка № ***********, *******************      АРМ   3-Низкий   Закрыт   \n",
       "\n",
       "  Функциональная группа        Крайний срок      Дата обращения   \n",
       "0                   ФГ1 2018-01-24 07:42:00 2018-01-19 09:27:00  \\\n",
       "1                   ФГ1 2018-01-24 10:51:00 2018-01-19 09:36:00   \n",
       "2                   ФГ8 2018-01-31 07:51:00 2018-01-25 22:47:00   \n",
       "3                 ФГ390 2018-01-28 05:50:00 2018-01-25 23:13:00   \n",
       "4                 ФГ303 2018-02-03 02:51:00 2018-01-25 23:39:00   \n",
       "\n",
       "  Тип обращения на момент подачи Тип обращения итоговый   \n",
       "0                         Запрос                 Запрос  \\\n",
       "1                         Запрос                 Запрос   \n",
       "2                         Запрос                 Запрос   \n",
       "3                       Инцидент               Инцидент   \n",
       "4                         Запрос                 Запрос   \n",
       "\n",
       "                                Решение               Тип переклассификации   \n",
       "0                                               Тест                      0  \\\n",
       "1                                               Тест                      0   \n",
       "2  Выполнена разблокировка у/з Ne_bosS\\*********\\...                      0   \n",
       "3                         Выход из стоя БП. Заменён.                      0   \n",
       "4                      Работы по обращению выполнены                      0   \n",
       "\n",
       "  Дата восстановления Дата закрытия обращения Критичность        Влияние   \n",
       "0                 NaN     2018-01-19 09:43:00       4-Нет        3-Малое  \\\n",
       "1                 NaN     2018-01-19 09:41:00       4-Нет        3-Малое   \n",
       "2    2018-01-25 22:47     2018-02-02 07:52:00    1-Особая        3-Малое   \n",
       "3    2018-01-25 23:55     2018-01-26 00:00:00       4-Нет        3-Малое   \n",
       "4    2018-01-28 02:54     2018-02-04 07:53:00       4-Нет  4-Нет влияния   \n",
       "\n",
       "    Система     Место  Тип обращения итоговый 01  \n",
       "0      База         К                          0  \n",
       "1      База         К                          0  \n",
       "2  Система7  Место190                          0  \n",
       "3      База  Место177                          1  \n",
       "4      База  Место216                          0  "
      ]
     },
     "execution_count": 39,
     "metadata": {},
     "output_type": "execute_result"
    }
   ],
   "source": [
    "train = pd.read_csv(r'train.csv')\n",
    "train[\"Крайний срок\"] = pd.to_datetime(train[\"Крайний срок\"], format='%Y-%m-%d %H:%M')\n",
    "train[\"Дата обращения\"] = pd.to_datetime(train[\"Дата обращения\"], format='%Y-%m-%d %H:%M')\n",
    "train[\"Дата закрытия обращения\"] = pd.to_datetime(train[\"Дата закрытия обращения\"], format='%Y-%m-%d %H:%M')\n",
    "train = train.drop(4119)\n",
    "train[\"Тип обращения итоговый 01\"] = train[\"Тип обращения итоговый\"].apply(lambda x: {\"Запрос\": 0, \"Инцидент\": 1}[x])\n",
    "train.head()"
   ]
  },
  {
   "cell_type": "code",
   "execution_count": 4,
   "metadata": {},
   "outputs": [
    {
     "data": {
      "text/plain": [
       "1       2018-01-19 09:41:00\n",
       "0       2018-01-19 09:43:00\n",
       "3       2018-01-26 00:00:00\n",
       "19      2018-01-26 01:38:00\n",
       "17      2018-01-26 02:13:00\n",
       "                ...        \n",
       "5622    2018-05-18 11:11:00\n",
       "6518    2018-05-20 07:53:00\n",
       "12255   2018-05-23 10:05:00\n",
       "4183    2018-06-08 13:27:00\n",
       "9717    2018-06-09 08:18:00\n",
       "Name: Дата закрытия обращения, Length: 14426, dtype: datetime64[ns]"
      ]
     },
     "execution_count": 4,
     "metadata": {},
     "output_type": "execute_result"
    }
   ],
   "source": [
    "train[\"Дата закрытия обращения\"].sort_values().dropna()"
   ]
  },
  {
   "cell_type": "code",
   "execution_count": 6,
   "metadata": {},
   "outputs": [
    {
     "data": {
      "text/plain": [
       "<Axes: >"
      ]
     },
     "execution_count": 6,
     "metadata": {},
     "output_type": "execute_result"
    },
    {
     "data": {
      "image/png": "[encoded data removed]",
      "text/plain": [
       "<Figure size 640x480 with 1 Axes>"
      ]
     },
     "metadata": {},
     "output_type": "display_data"
    }
   ],
   "source": [
    "#train[\"Крайний срок\"].hist(bins=100)\n",
    "#train[\"Дата обращения\"].hist(bins=100)\n",
    "train[\"Дата закрытия обращения\"].hist(bins=100)\n"
   ]
  },
  {
   "cell_type": "code",
   "execution_count": 17,
   "metadata": {},
   "outputs": [
    {
     "name": "stdout",
     "output_type": "stream",
     "text": [
      "['Запрос']\n",
      "['Инцидент']\n"
     ]
    }
   ],
   "source": [
    "i = 1\n",
    "\n",
    "print(train[train['Тип переклассификации'] == i]['Тип обращения на момент подачи'].unique())\n",
    "print(train[train['Тип переклассификации'] == i]['Тип обращения итоговый'].unique())\n"
   ]
  },
  {
   "cell_type": "code",
   "execution_count": 18,
   "metadata": {},
   "outputs": [],
   "source": [
    "df_0 = pd.DataFrame()\n",
    "df_1 = pd.DataFrame()\n",
    "\n",
    "df_0[\"text\"] = train[train['Тип обращения итоговый'] == \"Запрос\"][\"Содержание\"]\n",
    "df_1[\"text\"] = train[train['Тип обращения итоговый'] == \"Инцидент\"][\"Содержание\"]\n",
    "\n"
   ]
  },
  {
   "cell_type": "code",
   "execution_count": 19,
   "metadata": {},
   "outputs": [
    {
     "name": "stdout",
     "output_type": "stream",
     "text": [
      "CPU times: user 312 µs, sys: 25 µs, total: 337 µs\n",
      "Wall time: 349 µs\n"
     ]
    },
    {
     "data": {
      "text/plain": [
       "0       2018-01-19 09:27:00\n",
       "1       2018-01-19 09:36:00\n",
       "2       2018-01-25 22:47:00\n",
       "3       2018-01-25 23:13:00\n",
       "4       2018-01-25 23:39:00\n",
       "                ...        \n",
       "14798   2018-02-16 13:02:00\n",
       "14799   2018-02-16 13:07:00\n",
       "14800   2018-02-16 13:08:00\n",
       "14801   2018-02-16 13:09:00\n",
       "14802   2018-02-16 13:10:00\n",
       "Name: Дата обращения, Length: 14802, dtype: datetime64[ns]"
      ]
     },
     "execution_count": 19,
     "metadata": {},
     "output_type": "execute_result"
    }
   ],
   "source": [
    "%%time\n",
    "# 2018-01-19 09:43\t\n",
    "\n",
    "\n",
    "train[\"Дата обращения\"]"
   ]
  },
  {
   "cell_type": "code",
   "execution_count": 11,
   "metadata": {},
   "outputs": [
    {
     "data": {
      "text/plain": [
       "0                                                     Тест\n",
       "1                                       Тестовое обращение\n",
       "2                 Выполнена разблокировка у/з REGION\\*****\n",
       "3                                        .Не включается ПК\n",
       "4                Заявка № ***********, *******************\n",
       "                               ...                        \n",
       "14798     разблокировка учетной записи пользователя вСе...\n",
       "14799    Устранение уязвимостей ИБ в соответствии с Пла...\n",
       "14800              Контроль ПУ. Заявка на доступ к портам.\n",
       "14801                                      Ремонт стульев.\n",
       "14802    Заявка на предоставление и отзыв прав доступа ...\n",
       "Name: Содержание, Length: 14802, dtype: object"
      ]
     },
     "execution_count": 11,
     "metadata": {},
     "output_type": "execute_result"
    }
   ],
   "source": [
    "train[\"Содержание\"].apply(str)"
   ]
  },
  {
   "cell_type": "code",
   "execution_count": 12,
   "metadata": {},
   "outputs": [
    {
     "name": "stdout",
     "output_type": "stream",
     "text": [
      "CPU times: user 1h 36min 17s, sys: 15.7 s, total: 1h 36min 32s\n",
      "Wall time: 7min 19s\n"
     ]
    }
   ],
   "source": [
    "%%time\n",
    "\n",
    "#не использовать \n",
    "\n",
    "model_selection = pd.DataFrame(columns=['model', 'rmse_train'])\n",
    "\n",
    "data_copy = train.copy()\n",
    "\n",
    "model = SentenceTransformer('distiluse-base-multilingual-cased-v2')\n",
    "data_copy[\"Содержание_distiluse\"] = data_copy[\"Содержание\"].apply(str).apply(model.encode)\n",
    "\n",
    "# data_copy.dropna(inplace=True)\n",
    "data_copy[\"Тип обращения итоговый 01\"] = data_copy[\"Тип обращения итоговый\"].apply(lambda x: {\"Запрос\": 0, \"Инцидент\": 1}[x])\n"
   ]
  },
  {
   "cell_type": "code",
   "execution_count": 64,
   "metadata": {},
   "outputs": [
    {
     "data": {
      "text/html": [
       "<div>\n",
       "<style scoped>\n",
       "    .dataframe tbody tr th:only-of-type {\n",
       "        vertical-align: middle;\n",
       "    }\n",
       "\n",
       "    .dataframe tbody tr th {\n",
       "        vertical-align: top;\n",
       "    }\n",
       "\n",
       "    .dataframe thead th {\n",
       "        text-align: right;\n",
       "    }\n",
       "</style>\n",
       "<table border=\"1\" class=\"dataframe\">\n",
       "  <thead>\n",
       "    <tr style=\"text-align: right;\">\n",
       "      <th></th>\n",
       "      <th>Содержание_distiluse</th>\n",
       "    </tr>\n",
       "  </thead>\n",
       "  <tbody>\n",
       "    <tr>\n",
       "      <th>0</th>\n",
       "      <td>[0.0054264953, 0.03484664, -0.043095928, -0.00...</td>\n",
       "    </tr>\n",
       "    <tr>\n",
       "      <th>1</th>\n",
       "      <td>[-0.004410029, 0.045409504, -0.035607, 0.05434...</td>\n",
       "    </tr>\n",
       "    <tr>\n",
       "      <th>2</th>\n",
       "      <td>[0.0032631522, -0.031935878, -0.020486167, 0.0...</td>\n",
       "    </tr>\n",
       "    <tr>\n",
       "      <th>3</th>\n",
       "      <td>[-0.0003455198, -0.011863916, -0.009838245, -0...</td>\n",
       "    </tr>\n",
       "    <tr>\n",
       "      <th>4</th>\n",
       "      <td>[0.011684041, -0.016259423, -0.013979559, 0.02...</td>\n",
       "    </tr>\n",
       "    <tr>\n",
       "      <th>...</th>\n",
       "      <td>...</td>\n",
       "    </tr>\n",
       "    <tr>\n",
       "      <th>10652</th>\n",
       "      <td>[0.011684041, -0.016259423, -0.013979559, 0.02...</td>\n",
       "    </tr>\n",
       "    <tr>\n",
       "      <th>10653</th>\n",
       "      <td>[0.011684041, -0.016259423, -0.013979559, 0.02...</td>\n",
       "    </tr>\n",
       "    <tr>\n",
       "      <th>10654</th>\n",
       "      <td>[0.006826275, -0.013016901, -0.027685693, 0.03...</td>\n",
       "    </tr>\n",
       "    <tr>\n",
       "      <th>10655</th>\n",
       "      <td>[-0.025440272, 0.030161751, 0.012145033, -0.03...</td>\n",
       "    </tr>\n",
       "    <tr>\n",
       "      <th>10656</th>\n",
       "      <td>[-0.012479659, 0.0041403375, -0.017004207, 0.0...</td>\n",
       "    </tr>\n",
       "  </tbody>\n",
       "</table>\n",
       "<p>10656 rows × 1 columns</p>\n",
       "</div>"
      ],
      "text/plain": [
       "                                    Содержание_distiluse\n",
       "0      [0.0054264953, 0.03484664, -0.043095928, -0.00...\n",
       "1      [-0.004410029, 0.045409504, -0.035607, 0.05434...\n",
       "2      [0.0032631522, -0.031935878, -0.020486167, 0.0...\n",
       "3      [-0.0003455198, -0.011863916, -0.009838245, -0...\n",
       "4      [0.011684041, -0.016259423, -0.013979559, 0.02...\n",
       "...                                                  ...\n",
       "10652  [0.011684041, -0.016259423, -0.013979559, 0.02...\n",
       "10653  [0.011684041, -0.016259423, -0.013979559, 0.02...\n",
       "10654  [0.006826275, -0.013016901, -0.027685693, 0.03...\n",
       "10655  [-0.025440272, 0.030161751, 0.012145033, -0.03...\n",
       "10656  [-0.012479659, 0.0041403375, -0.017004207, 0.0...\n",
       "\n",
       "[10656 rows x 1 columns]"
      ]
     },
     "execution_count": 64,
     "metadata": {},
     "output_type": "execute_result"
    }
   ],
   "source": [
    "train_features"
   ]
  },
  {
   "cell_type": "code",
   "execution_count": 17,
   "metadata": {},
   "outputs": [
    {
     "ename": "ValueError",
     "evalue": "DataFrame.dtypes for data must be int, float or bool.\nDid not expect the data types in the following fields: Содержание_distiluse",
     "output_type": "error",
     "traceback": [
      "\u001b[0;31m---------------------------------------------------------------------------\u001b[0m",
      "\u001b[0;31mValueError\u001b[0m                                Traceback (most recent call last)",
      "File \u001b[0;32m<timed exec>:15\u001b[0m\n",
      "File \u001b[0;32m/jupyter/venv/lib/python3.8/site-packages/lightgbm/sklearn.py:895\u001b[0m, in \u001b[0;36mLGBMRegressor.fit\u001b[0;34m(self, X, y, sample_weight, init_score, eval_set, eval_names, eval_sample_weight, eval_init_score, eval_metric, early_stopping_rounds, verbose, feature_name, categorical_feature, callbacks, init_model)\u001b[0m\n\u001b[1;32m    888\u001b[0m \u001b[39mdef\u001b[39;00m \u001b[39mfit\u001b[39m(\u001b[39mself\u001b[39m, X, y,\n\u001b[1;32m    889\u001b[0m         sample_weight\u001b[39m=\u001b[39m\u001b[39mNone\u001b[39;00m, init_score\u001b[39m=\u001b[39m\u001b[39mNone\u001b[39;00m,\n\u001b[1;32m    890\u001b[0m         eval_set\u001b[39m=\u001b[39m\u001b[39mNone\u001b[39;00m, eval_names\u001b[39m=\u001b[39m\u001b[39mNone\u001b[39;00m, eval_sample_weight\u001b[39m=\u001b[39m\u001b[39mNone\u001b[39;00m,\n\u001b[1;32m    891\u001b[0m         eval_init_score\u001b[39m=\u001b[39m\u001b[39mNone\u001b[39;00m, eval_metric\u001b[39m=\u001b[39m\u001b[39mNone\u001b[39;00m, early_stopping_rounds\u001b[39m=\u001b[39m\u001b[39mNone\u001b[39;00m,\n\u001b[1;32m    892\u001b[0m         verbose\u001b[39m=\u001b[39m\u001b[39m'\u001b[39m\u001b[39mwarn\u001b[39m\u001b[39m'\u001b[39m, feature_name\u001b[39m=\u001b[39m\u001b[39m'\u001b[39m\u001b[39mauto\u001b[39m\u001b[39m'\u001b[39m, categorical_feature\u001b[39m=\u001b[39m\u001b[39m'\u001b[39m\u001b[39mauto\u001b[39m\u001b[39m'\u001b[39m,\n\u001b[1;32m    893\u001b[0m         callbacks\u001b[39m=\u001b[39m\u001b[39mNone\u001b[39;00m, init_model\u001b[39m=\u001b[39m\u001b[39mNone\u001b[39;00m):\n\u001b[1;32m    894\u001b[0m \u001b[39m    \u001b[39m\u001b[39m\"\"\"Docstring is inherited from the LGBMModel.\"\"\"\u001b[39;00m\n\u001b[0;32m--> 895\u001b[0m     \u001b[39msuper\u001b[39;49m()\u001b[39m.\u001b[39;49mfit(X, y, sample_weight\u001b[39m=\u001b[39;49msample_weight, init_score\u001b[39m=\u001b[39;49minit_score,\n\u001b[1;32m    896\u001b[0m                 eval_set\u001b[39m=\u001b[39;49meval_set, eval_names\u001b[39m=\u001b[39;49meval_names, eval_sample_weight\u001b[39m=\u001b[39;49meval_sample_weight,\n\u001b[1;32m    897\u001b[0m                 eval_init_score\u001b[39m=\u001b[39;49meval_init_score, eval_metric\u001b[39m=\u001b[39;49meval_metric,\n\u001b[1;32m    898\u001b[0m                 early_stopping_rounds\u001b[39m=\u001b[39;49mearly_stopping_rounds, verbose\u001b[39m=\u001b[39;49mverbose, feature_name\u001b[39m=\u001b[39;49mfeature_name,\n\u001b[1;32m    899\u001b[0m                 categorical_feature\u001b[39m=\u001b[39;49mcategorical_feature, callbacks\u001b[39m=\u001b[39;49mcallbacks, init_model\u001b[39m=\u001b[39;49minit_model)\n\u001b[1;32m    900\u001b[0m     \u001b[39mreturn\u001b[39;00m \u001b[39mself\u001b[39m\n",
      "File \u001b[0;32m/jupyter/venv/lib/python3.8/site-packages/lightgbm/sklearn.py:748\u001b[0m, in \u001b[0;36mLGBMModel.fit\u001b[0;34m(self, X, y, sample_weight, init_score, group, eval_set, eval_names, eval_sample_weight, eval_class_weight, eval_init_score, eval_group, eval_metric, early_stopping_rounds, verbose, feature_name, categorical_feature, callbacks, init_model)\u001b[0m\n\u001b[1;32m    745\u001b[0m evals_result \u001b[39m=\u001b[39m {}\n\u001b[1;32m    746\u001b[0m callbacks\u001b[39m.\u001b[39mappend(record_evaluation(evals_result))\n\u001b[0;32m--> 748\u001b[0m \u001b[39mself\u001b[39m\u001b[39m.\u001b[39m_Booster \u001b[39m=\u001b[39m train(\n\u001b[1;32m    749\u001b[0m     params\u001b[39m=\u001b[39;49mparams,\n\u001b[1;32m    750\u001b[0m     train_set\u001b[39m=\u001b[39;49mtrain_set,\n\u001b[1;32m    751\u001b[0m     num_boost_round\u001b[39m=\u001b[39;49m\u001b[39mself\u001b[39;49m\u001b[39m.\u001b[39;49mn_estimators,\n\u001b[1;32m    752\u001b[0m     valid_sets\u001b[39m=\u001b[39;49mvalid_sets,\n\u001b[1;32m    753\u001b[0m     valid_names\u001b[39m=\u001b[39;49meval_names,\n\u001b[1;32m    754\u001b[0m     fobj\u001b[39m=\u001b[39;49m\u001b[39mself\u001b[39;49m\u001b[39m.\u001b[39;49m_fobj,\n\u001b[1;32m    755\u001b[0m     feval\u001b[39m=\u001b[39;49meval_metrics_callable,\n\u001b[1;32m    756\u001b[0m     init_model\u001b[39m=\u001b[39;49minit_model,\n\u001b[1;32m    757\u001b[0m     feature_name\u001b[39m=\u001b[39;49mfeature_name,\n\u001b[1;32m    758\u001b[0m     callbacks\u001b[39m=\u001b[39;49mcallbacks\n\u001b[1;32m    759\u001b[0m )\n\u001b[1;32m    761\u001b[0m \u001b[39mif\u001b[39;00m evals_result:\n\u001b[1;32m    762\u001b[0m     \u001b[39mself\u001b[39m\u001b[39m.\u001b[39m_evals_result \u001b[39m=\u001b[39m evals_result\n",
      "File \u001b[0;32m/jupyter/venv/lib/python3.8/site-packages/lightgbm/engine.py:271\u001b[0m, in \u001b[0;36mtrain\u001b[0;34m(params, train_set, num_boost_round, valid_sets, valid_names, fobj, feval, init_model, feature_name, categorical_feature, early_stopping_rounds, evals_result, verbose_eval, learning_rates, keep_training_booster, callbacks)\u001b[0m\n\u001b[1;32m    269\u001b[0m \u001b[39m# construct booster\u001b[39;00m\n\u001b[1;32m    270\u001b[0m \u001b[39mtry\u001b[39;00m:\n\u001b[0;32m--> 271\u001b[0m     booster \u001b[39m=\u001b[39m Booster(params\u001b[39m=\u001b[39;49mparams, train_set\u001b[39m=\u001b[39;49mtrain_set)\n\u001b[1;32m    272\u001b[0m     \u001b[39mif\u001b[39;00m is_valid_contain_train:\n\u001b[1;32m    273\u001b[0m         booster\u001b[39m.\u001b[39mset_train_data_name(train_data_name)\n",
      "File \u001b[0;32m/jupyter/venv/lib/python3.8/site-packages/lightgbm/basic.py:2605\u001b[0m, in \u001b[0;36mBooster.__init__\u001b[0;34m(self, params, train_set, model_file, model_str, silent)\u001b[0m\n\u001b[1;32m   2598\u001b[0m     \u001b[39mself\u001b[39m\u001b[39m.\u001b[39mset_network(\n\u001b[1;32m   2599\u001b[0m         machines\u001b[39m=\u001b[39mmachines,\n\u001b[1;32m   2600\u001b[0m         local_listen_port\u001b[39m=\u001b[39mparams[\u001b[39m\"\u001b[39m\u001b[39mlocal_listen_port\u001b[39m\u001b[39m\"\u001b[39m],\n\u001b[1;32m   2601\u001b[0m         listen_time_out\u001b[39m=\u001b[39mparams\u001b[39m.\u001b[39mget(\u001b[39m\"\u001b[39m\u001b[39mtime_out\u001b[39m\u001b[39m\"\u001b[39m, \u001b[39m120\u001b[39m),\n\u001b[1;32m   2602\u001b[0m         num_machines\u001b[39m=\u001b[39mparams[\u001b[39m\"\u001b[39m\u001b[39mnum_machines\u001b[39m\u001b[39m\"\u001b[39m]\n\u001b[1;32m   2603\u001b[0m     )\n\u001b[1;32m   2604\u001b[0m \u001b[39m# construct booster object\u001b[39;00m\n\u001b[0;32m-> 2605\u001b[0m train_set\u001b[39m.\u001b[39;49mconstruct()\n\u001b[1;32m   2606\u001b[0m \u001b[39m# copy the parameters from train_set\u001b[39;00m\n\u001b[1;32m   2607\u001b[0m params\u001b[39m.\u001b[39mupdate(train_set\u001b[39m.\u001b[39mget_params())\n",
      "File \u001b[0;32m/jupyter/venv/lib/python3.8/site-packages/lightgbm/basic.py:1815\u001b[0m, in \u001b[0;36mDataset.construct\u001b[0;34m(self)\u001b[0m\n\u001b[1;32m   1812\u001b[0m             \u001b[39mself\u001b[39m\u001b[39m.\u001b[39m_set_init_score_by_predictor(\u001b[39mself\u001b[39m\u001b[39m.\u001b[39m_predictor, \u001b[39mself\u001b[39m\u001b[39m.\u001b[39mdata, used_indices)\n\u001b[1;32m   1813\u001b[0m \u001b[39melse\u001b[39;00m:\n\u001b[1;32m   1814\u001b[0m     \u001b[39m# create train\u001b[39;00m\n\u001b[0;32m-> 1815\u001b[0m     \u001b[39mself\u001b[39;49m\u001b[39m.\u001b[39;49m_lazy_init(\u001b[39mself\u001b[39;49m\u001b[39m.\u001b[39;49mdata, label\u001b[39m=\u001b[39;49m\u001b[39mself\u001b[39;49m\u001b[39m.\u001b[39;49mlabel,\n\u001b[1;32m   1816\u001b[0m                     weight\u001b[39m=\u001b[39;49m\u001b[39mself\u001b[39;49m\u001b[39m.\u001b[39;49mweight, group\u001b[39m=\u001b[39;49m\u001b[39mself\u001b[39;49m\u001b[39m.\u001b[39;49mgroup,\n\u001b[1;32m   1817\u001b[0m                     init_score\u001b[39m=\u001b[39;49m\u001b[39mself\u001b[39;49m\u001b[39m.\u001b[39;49minit_score, predictor\u001b[39m=\u001b[39;49m\u001b[39mself\u001b[39;49m\u001b[39m.\u001b[39;49m_predictor,\n\u001b[1;32m   1818\u001b[0m                     silent\u001b[39m=\u001b[39;49m\u001b[39mself\u001b[39;49m\u001b[39m.\u001b[39;49msilent, feature_name\u001b[39m=\u001b[39;49m\u001b[39mself\u001b[39;49m\u001b[39m.\u001b[39;49mfeature_name,\n\u001b[1;32m   1819\u001b[0m                     categorical_feature\u001b[39m=\u001b[39;49m\u001b[39mself\u001b[39;49m\u001b[39m.\u001b[39;49mcategorical_feature, params\u001b[39m=\u001b[39;49m\u001b[39mself\u001b[39;49m\u001b[39m.\u001b[39;49mparams)\n\u001b[1;32m   1820\u001b[0m \u001b[39mif\u001b[39;00m \u001b[39mself\u001b[39m\u001b[39m.\u001b[39mfree_raw_data:\n\u001b[1;32m   1821\u001b[0m     \u001b[39mself\u001b[39m\u001b[39m.\u001b[39mdata \u001b[39m=\u001b[39m \u001b[39mNone\u001b[39;00m\n",
      "File \u001b[0;32m/jupyter/venv/lib/python3.8/site-packages/lightgbm/basic.py:1474\u001b[0m, in \u001b[0;36mDataset._lazy_init\u001b[0;34m(self, data, label, reference, weight, group, init_score, predictor, silent, feature_name, categorical_feature, params)\u001b[0m\n\u001b[1;32m   1472\u001b[0m     \u001b[39mself\u001b[39m\u001b[39m.\u001b[39mpandas_categorical \u001b[39m=\u001b[39m reference\u001b[39m.\u001b[39mpandas_categorical\n\u001b[1;32m   1473\u001b[0m     categorical_feature \u001b[39m=\u001b[39m reference\u001b[39m.\u001b[39mcategorical_feature\n\u001b[0;32m-> 1474\u001b[0m data, feature_name, categorical_feature, \u001b[39mself\u001b[39m\u001b[39m.\u001b[39mpandas_categorical \u001b[39m=\u001b[39m _data_from_pandas(data,\n\u001b[1;32m   1475\u001b[0m                                                                                      feature_name,\n\u001b[1;32m   1476\u001b[0m                                                                                      categorical_feature,\n\u001b[1;32m   1477\u001b[0m                                                                                      \u001b[39mself\u001b[39;49m\u001b[39m.\u001b[39;49mpandas_categorical)\n\u001b[1;32m   1478\u001b[0m label \u001b[39m=\u001b[39m _label_from_pandas(label)\n\u001b[1;32m   1480\u001b[0m \u001b[39m# process for args\u001b[39;00m\n",
      "File \u001b[0;32m/jupyter/venv/lib/python3.8/site-packages/lightgbm/basic.py:594\u001b[0m, in \u001b[0;36m_data_from_pandas\u001b[0;34m(data, feature_name, categorical_feature, pandas_categorical)\u001b[0m\n\u001b[1;32m    592\u001b[0m \u001b[39mif\u001b[39;00m bad_indices:\n\u001b[1;32m    593\u001b[0m     bad_index_cols_str \u001b[39m=\u001b[39m \u001b[39m'\u001b[39m\u001b[39m, \u001b[39m\u001b[39m'\u001b[39m\u001b[39m.\u001b[39mjoin(data\u001b[39m.\u001b[39mcolumns[bad_indices])\n\u001b[0;32m--> 594\u001b[0m     \u001b[39mraise\u001b[39;00m \u001b[39mValueError\u001b[39;00m(\u001b[39m\"\u001b[39m\u001b[39mDataFrame.dtypes for data must be int, float or bool.\u001b[39m\u001b[39m\\n\u001b[39;00m\u001b[39m\"\u001b[39m\n\u001b[1;32m    595\u001b[0m                      \u001b[39m\"\u001b[39m\u001b[39mDid not expect the data types in the following fields: \u001b[39m\u001b[39m\"\u001b[39m\n\u001b[1;32m    596\u001b[0m                      \u001b[39mf\u001b[39m\u001b[39m\"\u001b[39m\u001b[39m{\u001b[39;00mbad_index_cols_str\u001b[39m}\u001b[39;00m\u001b[39m\"\u001b[39m)\n\u001b[1;32m    597\u001b[0m data \u001b[39m=\u001b[39m data\u001b[39m.\u001b[39mvalues\n\u001b[1;32m    598\u001b[0m \u001b[39mif\u001b[39;00m data\u001b[39m.\u001b[39mdtype \u001b[39m!=\u001b[39m np\u001b[39m.\u001b[39mfloat32 \u001b[39mand\u001b[39;00m data\u001b[39m.\u001b[39mdtype \u001b[39m!=\u001b[39m np\u001b[39m.\u001b[39mfloat64:\n",
      "\u001b[0;31mValueError\u001b[0m: DataFrame.dtypes for data must be int, float or bool.\nDid not expect the data types in the following fields: Содержание_distiluse"
     ]
    }
   ],
   "source": [
    "%%time\n",
    "\n",
    "\n",
    "#разделим данные так, чтобы на test приходилось 10%, данные не перемешиваются\n",
    "#нужно чтобы данные обновляли свои признаки\n",
    "LGBMR_train, test = train_test_split(data_copy[[\"Содержание_distiluse\", \"Тип обращения итоговый 01\"]], shuffle = False, test_size=0.1, random_state=12345)\n",
    "LGBMR_train, valid = train_test_split(LGBMR_train, shuffle = False, test_size=0.2, random_state=12345)\n",
    "\n",
    "train_features = LGBMR_train.drop('Тип обращения итоговый 01', axis=1)\n",
    "train_target = LGBMR_train['Тип обращения итоговый 01']\n",
    "test_features = test.drop('Тип обращения итоговый 01', axis=1)\n",
    "test_target = test['Тип обращения итоговый 01']\n",
    "\n",
    "\n",
    "#градиентный бустинг\n",
    "for depth, est in zip(range(1, 15), range(1,100,10)):\n",
    "    gradient_boosting = ltb.LGBMRegressor(max_depth=depth, n_estimators=est, learning_rate=0.1)\n",
    "    gradient_boosting.fit(train_features, train_target)\n",
    "\n",
    "    rmse_train = mean_squared_error(train_target, gradient_boosting.predict(train_features))**0.5\n",
    "    rmse_valid = mean_squared_error(valid_target, gradient_boosting.predict(valid_features))**0.5\n",
    "    model_selection.loc[len(model_selection)] = [gradient_boosting, rmse_train, rmse_valid]\n",
    "        \n",
    "#print(f'RMSE на train выборке: {rmse_train}')\n",
    "#print(f'RMSE на test выборке: {rmse_test}')\n"
   ]
  },
  {
   "cell_type": "code",
   "execution_count": 36,
   "metadata": {},
   "outputs": [
    {
     "data": {
      "text/plain": [
       "0                                                     Тест\n",
       "1                                       Тестовое обращение\n",
       "2                 Выполнена разблокировка у/з REGION\\*****\n",
       "3                                        .Не включается ПК\n",
       "4                Заявка № ***********, *******************\n",
       "                               ...                        \n",
       "14798     разблокировка учетной записи пользователя вСе...\n",
       "14799    Устранение уязвимостей ИБ в соответствии с Пла...\n",
       "14800              Контроль ПУ. Заявка на доступ к портам.\n",
       "14801                                      Ремонт стульев.\n",
       "14802    Заявка на предоставление и отзыв прав доступа ...\n",
       "Name: Содержание, Length: 14802, dtype: object"
      ]
     },
     "execution_count": 36,
     "metadata": {},
     "output_type": "execute_result"
    }
   ],
   "source": [
    "train[\"Содержание\"].apply(str)"
   ]
  },
  {
   "cell_type": "code",
   "execution_count": 27,
   "metadata": {},
   "outputs": [],
   "source": [
    "from nltk.stem.snowball import SnowballStemmer\n",
    "stemmer = SnowballStemmer(\"russian\")\n",
    "\n",
    "def token_and_stem(text):\n",
    "    tokens = [word for sent in nltk.sent_tokenize(text) for word in\n",
    "             nltk.word_tokenize(sent)] #разбиение на токены\n",
    "    filtered_tokens = []\n",
    "    for token in tokens:\n",
    "        if re.search('[a-zA-Z]', token): #удаление всего, кроме букв\n",
    "            filtered_tokens.append(token)\n",
    "    stems = [stemmer.stem(t) for t in filtered_tokens] #стемминг\n",
    "    return stems   "
   ]
  },
  {
   "cell_type": "code",
   "execution_count": 29,
   "metadata": {},
   "outputs": [
    {
     "name": "stderr",
     "output_type": "stream",
     "text": [
      "[nltk_data] Downloading package punkt to /root/nltk_data...\n",
      "[nltk_data]   Package punkt is already up-to-date!\n",
      "[nltk_data] Downloading package stopwords to /root/nltk_data...\n",
      "[nltk_data]   Unzipping corpora/stopwords.zip.\n"
     ]
    },
    {
     "data": {
      "text/plain": [
       "True"
      ]
     },
     "execution_count": 29,
     "metadata": {},
     "output_type": "execute_result"
    }
   ],
   "source": [
    "nltk.download('punkt')\n",
    "nltk.download('stopwords')"
   ]
  },
  {
   "cell_type": "code",
   "execution_count": 86,
   "metadata": {},
   "outputs": [],
   "source": [
    "stopwords = nltk.corpus.stopwords.words(\"russian\") \n",
    "\n",
    "from sklearn.feature_extraction.text import TfidfVectorizer\n",
    "n_featur = 200_000\n",
    "\n",
    "tfidf_vectorizer = TfidfVectorizer(max_df=0.9, max_features=1_000,\n",
    "                                  min_df=0.01, stop_words=stopwords,\n",
    "                                  use_idf=True, tokenizer=token_and_stem)"
   ]
  },
  {
   "cell_type": "code",
   "execution_count": 89,
   "metadata": {},
   "outputs": [
    {
     "data": {
      "text/plain": [
       "14793                            Запрос на организацию БРМ\n",
       "14794                     Разблокировать УЗ NE_BOSS\\******\n",
       "14795    Заявка на предоставление и отзыв прав доступа ...\n",
       "14796    Заявка на предоставление и отзыв прав доступа ...\n",
       "14797    Заявка на предоставление и отзыв прав доступа ...\n",
       "14798     разблокировка учетной записи пользователя вСе...\n",
       "14799    Устранение уязвимостей ИБ в соответствии с Пла...\n",
       "14800              Контроль ПУ. Заявка на доступ к портам.\n",
       "14801                                      Ремонт стульев.\n",
       "14802    Заявка на предоставление и отзыв прав доступа ...\n",
       "Name: Содержание, dtype: object"
      ]
     },
     "execution_count": 89,
     "metadata": {},
     "output_type": "execute_result"
    }
   ],
   "source": [
    "train[\"Содержание\"].tail(10)"
   ]
  },
  {
   "cell_type": "code",
   "execution_count": 87,
   "metadata": {},
   "outputs": [
    {
     "name": "stderr",
     "output_type": "stream",
     "text": [
      "/jupyter/venv/lib/python3.8/site-packages/sklearn/feature_extraction/text.py:528: UserWarning: The parameter 'token_pattern' will not be used since 'tokenizer' is not None'\n",
      "  warnings.warn(\n"
     ]
    }
   ],
   "source": [
    "tfidf_matrix = tfidf_vectorizer.fit_transform(train[\"Содержание\"].apply(str))\n"
   ]
  },
  {
   "cell_type": "code",
   "execution_count": 100,
   "metadata": {},
   "outputs": [
    {
     "ename": "TypeError",
     "evalue": "'TfidfVectorizer' object is not subscriptable",
     "output_type": "error",
     "traceback": [
      "\u001b[0;31m---------------------------------------------------------------------------\u001b[0m",
      "\u001b[0;31mTypeError\u001b[0m                                 Traceback (most recent call last)",
      "Cell \u001b[0;32mIn[100], line 1\u001b[0m\n\u001b[0;32m----> 1\u001b[0m tfidf_vectorizer[\u001b[39m1\u001b[39;49m]\n",
      "\u001b[0;31mTypeError\u001b[0m: 'TfidfVectorizer' object is not subscriptable"
     ]
    }
   ],
   "source": []
  },
  {
   "cell_type": "code",
   "execution_count": 68,
   "metadata": {},
   "outputs": [],
   "source": [
    "x_train, x_test, y_train, y_test = train_test_split(tfidf_matrix, train[\"Тип обращения итоговый 01\"], test_size=0.2, random_state=1423)\n",
    "x_train = x_train.toarray()\n",
    "x_test = x_test.toarray()\n"
   ]
  },
  {
   "cell_type": "code",
   "execution_count": 69,
   "metadata": {},
   "outputs": [
    {
     "name": "stdout",
     "output_type": "stream",
     "text": [
      "<class 'sklearn.discriminant_analysis.LinearDiscriminantAnalysis'>\n",
      "<class 'sklearn.neighbors._classification.KNeighborsClassifier'>\n",
      "<class 'sklearn.naive_bayes.GaussianNB'>\n",
      "<class 'sklearn.tree._classes.DecisionTreeClassifier'>\n"
     ]
    }
   ],
   "source": [
    "from sklearn.discriminant_analysis import LinearDiscriminantAnalysis\n",
    "from sklearn.neighbors import KNeighborsClassifier\n",
    "from sklearn.naive_bayes import GaussianNB\n",
    "from sklearn.tree import DecisionTreeClassifier\n",
    "from sklearn.svm import SVC\n",
    "from sklearn.naive_bayes import MultinomialNB\n",
    "\n",
    "clf_list = [LinearDiscriminantAnalysis(), KNeighborsClassifier(), GaussianNB(), DecisionTreeClassifier()]\n",
    "\n",
    "for clf in clf_list:\n",
    "    print(type(clf))\n",
    "    clf.fit(x_train, y_train)"
   ]
  },
  {
   "cell_type": "code",
   "execution_count": 70,
   "metadata": {},
   "outputs": [
    {
     "name": "stdout",
     "output_type": "stream",
     "text": [
      "0.9726388325901905\n",
      "0.9726388325901905\n",
      "0.05769490609377111\n",
      "0.9726388325901905\n"
     ]
    }
   ],
   "source": [
    "for clf in clf_list:\n",
    "    print(clf.score(tfidf_matrix.toarray(), train[\"Тип обращения итоговый 01\"]))"
   ]
  },
  {
   "cell_type": "code",
   "execution_count": 57,
   "metadata": {},
   "outputs": [
    {
     "data": {
      "text/plain": [
       "12206    0\n",
       "4145     0\n",
       "4091     0\n",
       "11200    0\n",
       "8378     0\n",
       "        ..\n",
       "13124    0\n",
       "3264     0\n",
       "9846     0\n",
       "10800    0\n",
       "2732     0\n",
       "Name: Тип обращения итоговый 01, Length: 11841, dtype: int64"
      ]
     },
     "execution_count": 57,
     "metadata": {},
     "output_type": "execute_result"
    }
   ],
   "source": [
    "y_train"
   ]
  },
  {
   "cell_type": "code",
   "execution_count": 58,
   "metadata": {},
   "outputs": [
    {
     "data": {
      "text/plain": [
       "array([[0., 0.],\n",
       "       [0., 0.],\n",
       "       [0., 0.],\n",
       "       ...,\n",
       "       [0., 0.],\n",
       "       [0., 0.],\n",
       "       [0., 0.]])"
      ]
     },
     "execution_count": 58,
     "metadata": {},
     "output_type": "execute_result"
    }
   ],
   "source": [
    "x_train"
   ]
  },
  {
   "cell_type": "code",
   "execution_count": 60,
   "metadata": {},
   "outputs": [
    {
     "data": {
      "text/plain": [
       "5386     0\n",
       "974      1\n",
       "11251    0\n",
       "1172     0\n",
       "6808     0\n",
       "        ..\n",
       "7702     0\n",
       "8388     0\n",
       "11417    0\n",
       "14304    0\n",
       "5321     0\n",
       "Name: Тип обращения итоговый 01, Length: 2961, dtype: int64"
      ]
     },
     "execution_count": 60,
     "metadata": {},
     "output_type": "execute_result"
    }
   ],
   "source": [
    "y_test"
   ]
  },
  {
   "cell_type": "code",
   "execution_count": 77,
   "metadata": {},
   "outputs": [
    {
     "name": "stdout",
     "output_type": "stream",
     "text": [
      "max_depth = 1 \t f1_score = 0.9685916919959473\n",
      "max_depth = 2 \t f1_score = 0.9685916919959473\n",
      "max_depth = 3 \t f1_score = 0.9685916919959473\n",
      "max_depth = 4 \t f1_score = 0.9685916919959473\n",
      "max_depth = 5 \t f1_score = 0.9685916919959473\n",
      "max_depth = 6 \t f1_score = 0.9685916919959473\n",
      "max_depth = 7 \t f1_score = 0.9685916919959473\n",
      "max_depth = 8 \t f1_score = 0.9685916919959473\n",
      "max_depth = 9 \t f1_score = 0.9685916919959473\n",
      "max_depth = 10 \t f1_score = 0.9685916919959473\n",
      "max_depth = 11 \t f1_score = 0.9685916919959473\n",
      "max_depth = 12 \t f1_score = 0.9685916919959473\n",
      "max_depth = 13 \t f1_score = 0.9685916919959473\n",
      "max_depth = 14 \t f1_score = 0.9685916919959473\n",
      "max_depth = 15 \t f1_score = 0.9685916919959473\n",
      "max_depth = 16 \t f1_score = 0.9685916919959473\n",
      "max_depth = 17 \t f1_score = 0.9685916919959473\n",
      "max_depth = 18 \t f1_score = 0.9685916919959473\n",
      "max_depth = 19 \t f1_score = 0.9685916919959473\n",
      "max_depth = 20 \t f1_score = 0.9685916919959473\n",
      "max_depth = 21 \t f1_score = 0.9685916919959473\n",
      "max_depth = 22 \t f1_score = 0.9685916919959473\n",
      "max_depth = 23 \t f1_score = 0.9685916919959473\n",
      "max_depth = 24 \t f1_score = 0.9685916919959473\n",
      "max_depth = 25 \t f1_score = 0.9685916919959473\n",
      "max_depth = 26 \t f1_score = 0.9685916919959473\n",
      "max_depth = 27 \t f1_score = 0.9685916919959473\n",
      "max_depth = 28 \t f1_score = 0.9685916919959473\n",
      "max_depth = 29 \t f1_score = 0.9685916919959473\n",
      "max_depth = 30 \t f1_score = 0.9685916919959473\n",
      "max_depth = 31 \t f1_score = 0.9685916919959473\n",
      "max_depth = 32 \t f1_score = 0.9685916919959473\n",
      "max_depth = 33 \t f1_score = 0.9685916919959473\n",
      "max_depth = 34 \t f1_score = 0.9685916919959473\n",
      "max_depth = 35 \t f1_score = 0.9685916919959473\n",
      "max_depth = 36 \t f1_score = 0.9685916919959473\n",
      "max_depth = 37 \t f1_score = 0.9685916919959473\n",
      "max_depth = 38 \t f1_score = 0.9685916919959473\n",
      "max_depth = 39 \t f1_score = 0.9685916919959473\n",
      "max_depth = 40 \t f1_score = 0.9685916919959473\n",
      "max_depth = 41 \t f1_score = 0.9685916919959473\n",
      "max_depth = 42 \t f1_score = 0.9685916919959473\n",
      "max_depth = 43 \t f1_score = 0.9685916919959473\n",
      "max_depth = 44 \t f1_score = 0.9685916919959473\n",
      "max_depth = 45 \t f1_score = 0.9685916919959473\n",
      "max_depth = 46 \t f1_score = 0.9685916919959473\n",
      "max_depth = 47 \t f1_score = 0.9685916919959473\n",
      "max_depth = 48 \t f1_score = 0.9685916919959473\n",
      "max_depth = 49 \t f1_score = 0.9685916919959473\n",
      "max_depth = 50 \t f1_score = 0.9685916919959473\n",
      "max_depth = 51 \t f1_score = 0.9685916919959473\n",
      "max_depth = 52 \t f1_score = 0.9685916919959473\n",
      "max_depth = 53 \t f1_score = 0.9685916919959473\n",
      "max_depth = 54 \t f1_score = 0.9685916919959473\n",
      "max_depth = 55 \t f1_score = 0.9685916919959473\n",
      "max_depth = 56 \t f1_score = 0.9685916919959473\n",
      "max_depth = 57 \t f1_score = 0.9685916919959473\n",
      "max_depth = 58 \t f1_score = 0.9685916919959473\n",
      "max_depth = 59 \t f1_score = 0.9685916919959473\n",
      "max_depth = 60 \t f1_score = 0.9685916919959473\n",
      "max_depth = 61 \t f1_score = 0.9685916919959473\n",
      "max_depth = 62 \t f1_score = 0.9685916919959473\n",
      "max_depth = 63 \t f1_score = 0.9685916919959473\n",
      "max_depth = 64 \t f1_score = 0.9685916919959473\n",
      "max_depth = 65 \t f1_score = 0.9685916919959473\n",
      "max_depth = 66 \t f1_score = 0.9685916919959473\n",
      "max_depth = 67 \t f1_score = 0.9685916919959473\n",
      "max_depth = 68 \t f1_score = 0.9685916919959473\n",
      "max_depth = 69 \t f1_score = 0.9685916919959473\n",
      "max_depth = 70 \t f1_score = 0.9685916919959473\n",
      "max_depth = 71 \t f1_score = 0.9685916919959473\n",
      "max_depth = 72 \t f1_score = 0.9685916919959473\n",
      "max_depth = 73 \t f1_score = 0.9685916919959473\n",
      "max_depth = 74 \t f1_score = 0.9685916919959473\n",
      "max_depth = 75 \t f1_score = 0.9685916919959473\n",
      "max_depth = 76 \t f1_score = 0.9685916919959473\n",
      "max_depth = 77 \t f1_score = 0.9685916919959473\n",
      "max_depth = 78 \t f1_score = 0.9685916919959473\n",
      "max_depth = 79 \t f1_score = 0.9685916919959473\n",
      "max_depth = 80 \t f1_score = 0.9685916919959473\n",
      "max_depth = 81 \t f1_score = 0.9685916919959473\n",
      "max_depth = 82 \t f1_score = 0.9685916919959473\n",
      "max_depth = 83 \t f1_score = 0.9685916919959473\n",
      "max_depth = 84 \t f1_score = 0.9685916919959473\n",
      "max_depth = 85 \t f1_score = 0.9685916919959473\n",
      "max_depth = 86 \t f1_score = 0.9685916919959473\n",
      "max_depth = 87 \t f1_score = 0.9685916919959473\n",
      "max_depth = 88 \t f1_score = 0.9685916919959473\n",
      "max_depth = 89 \t f1_score = 0.9685916919959473\n",
      "max_depth = 90 \t f1_score = 0.9685916919959473\n",
      "max_depth = 91 \t f1_score = 0.9685916919959473\n",
      "max_depth = 92 \t f1_score = 0.9685916919959473\n",
      "max_depth = 93 \t f1_score = 0.9685916919959473\n",
      "max_depth = 94 \t f1_score = 0.9685916919959473\n",
      "max_depth = 95 \t f1_score = 0.9685916919959473\n",
      "max_depth = 96 \t f1_score = 0.9685916919959473\n",
      "max_depth = 97 \t f1_score = 0.9685916919959473\n",
      "max_depth = 98 \t f1_score = 0.9685916919959473\n",
      "max_depth = 99 \t f1_score = 0.9685916919959473\n",
      "max_depth = 100 \t f1_score = 0.9685916919959473\n",
      "max_depth = 101 \t f1_score = 0.9685916919959473\n",
      "max_depth = 102 \t f1_score = 0.9685916919959473\n",
      "max_depth = 103 \t f1_score = 0.9685916919959473\n",
      "max_depth = 104 \t f1_score = 0.9685916919959473\n",
      "max_depth = 105 \t f1_score = 0.9685916919959473\n",
      "max_depth = 106 \t f1_score = 0.9685916919959473\n",
      "max_depth = 107 \t f1_score = 0.9685916919959473\n",
      "max_depth = 108 \t f1_score = 0.9685916919959473\n",
      "max_depth = 109 \t f1_score = 0.9685916919959473\n",
      "max_depth = 110 \t f1_score = 0.9685916919959473\n",
      "max_depth = 111 \t f1_score = 0.9685916919959473\n",
      "max_depth = 112 \t f1_score = 0.9685916919959473\n",
      "max_depth = 113 \t f1_score = 0.9685916919959473\n",
      "max_depth = 114 \t f1_score = 0.9685916919959473\n",
      "max_depth = 115 \t f1_score = 0.9685916919959473\n",
      "max_depth = 116 \t f1_score = 0.9685916919959473\n",
      "max_depth = 117 \t f1_score = 0.9685916919959473\n",
      "max_depth = 118 \t f1_score = 0.9685916919959473\n",
      "max_depth = 119 \t f1_score = 0.9685916919959473\n",
      "max_depth = 120 \t f1_score = 0.9685916919959473\n",
      "max_depth = 121 \t f1_score = 0.9685916919959473\n",
      "max_depth = 122 \t f1_score = 0.9685916919959473\n",
      "max_depth = 123 \t f1_score = 0.9685916919959473\n",
      "max_depth = 124 \t f1_score = 0.9685916919959473\n",
      "max_depth = 125 \t f1_score = 0.9685916919959473\n",
      "max_depth = 126 \t f1_score = 0.9685916919959473\n",
      "max_depth = 127 \t f1_score = 0.9685916919959473\n",
      "max_depth = 128 \t f1_score = 0.9685916919959473\n",
      "max_depth = 129 \t f1_score = 0.9685916919959473\n",
      "max_depth = 130 \t f1_score = 0.9685916919959473\n",
      "max_depth = 131 \t f1_score = 0.9685916919959473\n",
      "max_depth = 132 \t f1_score = 0.9685916919959473\n",
      "max_depth = 133 \t f1_score = 0.9685916919959473\n",
      "max_depth = 134 \t f1_score = 0.9685916919959473\n",
      "max_depth = 135 \t f1_score = 0.9685916919959473\n",
      "max_depth = 136 \t f1_score = 0.9685916919959473\n",
      "max_depth = 137 \t f1_score = 0.9685916919959473\n",
      "max_depth = 138 \t f1_score = 0.9685916919959473\n",
      "max_depth = 139 \t f1_score = 0.9685916919959473\n",
      "max_depth = 140 \t f1_score = 0.9685916919959473\n",
      "max_depth = 141 \t f1_score = 0.9685916919959473\n",
      "max_depth = 142 \t f1_score = 0.9685916919959473\n",
      "max_depth = 143 \t f1_score = 0.9685916919959473\n",
      "max_depth = 144 \t f1_score = 0.9685916919959473\n",
      "max_depth = 145 \t f1_score = 0.9685916919959473\n",
      "max_depth = 146 \t f1_score = 0.9685916919959473\n",
      "max_depth = 147 \t f1_score = 0.9685916919959473\n",
      "max_depth = 148 \t f1_score = 0.9685916919959473\n",
      "max_depth = 149 \t f1_score = 0.9685916919959473\n",
      "max_depth = 150 \t f1_score = 0.9685916919959473\n",
      "max_depth = 151 \t f1_score = 0.9685916919959473\n",
      "max_depth = 152 \t f1_score = 0.9685916919959473\n",
      "max_depth = 153 \t f1_score = 0.9685916919959473\n",
      "max_depth = 154 \t f1_score = 0.9685916919959473\n",
      "max_depth = 155 \t f1_score = 0.9685916919959473\n",
      "max_depth = 156 \t f1_score = 0.9685916919959473\n",
      "max_depth = 157 \t f1_score = 0.9685916919959473\n",
      "max_depth = 158 \t f1_score = 0.9685916919959473\n",
      "max_depth = 159 \t f1_score = 0.9685916919959473\n",
      "max_depth = 160 \t f1_score = 0.9685916919959473\n",
      "max_depth = 161 \t f1_score = 0.9685916919959473\n",
      "max_depth = 162 \t f1_score = 0.9685916919959473\n",
      "max_depth = 163 \t f1_score = 0.9685916919959473\n",
      "max_depth = 164 \t f1_score = 0.9685916919959473\n",
      "max_depth = 165 \t f1_score = 0.9685916919959473\n",
      "max_depth = 166 \t f1_score = 0.9685916919959473\n",
      "max_depth = 167 \t f1_score = 0.9685916919959473\n",
      "max_depth = 168 \t f1_score = 0.9685916919959473\n",
      "max_depth = 169 \t f1_score = 0.9685916919959473\n",
      "max_depth = 170 \t f1_score = 0.9685916919959473\n",
      "max_depth = 171 \t f1_score = 0.9685916919959473\n",
      "max_depth = 172 \t f1_score = 0.9685916919959473\n",
      "max_depth = 173 \t f1_score = 0.9685916919959473\n",
      "max_depth = 174 \t f1_score = 0.9685916919959473\n",
      "max_depth = 175 \t f1_score = 0.9685916919959473\n",
      "max_depth = 176 \t f1_score = 0.9685916919959473\n",
      "max_depth = 177 \t f1_score = 0.9685916919959473\n",
      "max_depth = 178 \t f1_score = 0.9685916919959473\n",
      "max_depth = 179 \t f1_score = 0.9685916919959473\n",
      "max_depth = 180 \t f1_score = 0.9685916919959473\n",
      "max_depth = 181 \t f1_score = 0.9685916919959473\n",
      "max_depth = 182 \t f1_score = 0.9685916919959473\n",
      "max_depth = 183 \t f1_score = 0.9685916919959473\n",
      "max_depth = 184 \t f1_score = 0.9685916919959473\n",
      "max_depth = 185 \t f1_score = 0.9685916919959473\n",
      "max_depth = 186 \t f1_score = 0.9685916919959473\n",
      "max_depth = 187 \t f1_score = 0.9685916919959473\n",
      "max_depth = 188 \t f1_score = 0.9685916919959473\n",
      "max_depth = 189 \t f1_score = 0.9685916919959473\n",
      "max_depth = 190 \t f1_score = 0.9685916919959473\n",
      "max_depth = 191 \t f1_score = 0.9685916919959473\n",
      "max_depth = 192 \t f1_score = 0.9685916919959473\n",
      "max_depth = 193 \t f1_score = 0.9685916919959473\n",
      "max_depth = 194 \t f1_score = 0.9685916919959473\n",
      "max_depth = 195 \t f1_score = 0.9685916919959473\n",
      "max_depth = 196 \t f1_score = 0.9685916919959473\n",
      "max_depth = 197 \t f1_score = 0.9685916919959473\n",
      "max_depth = 198 \t f1_score = 0.9685916919959473\n",
      "max_depth = 199 \t f1_score = 0.9685916919959473\n"
     ]
    }
   ],
   "source": [
    "from sklearn.tree import DecisionTreeClassifier\n",
    "from sklearn.metrics import f1_score\n",
    "\n",
    "for d in range(1, 200):\n",
    "    model = DecisionTreeClassifier(max_depth=d)\n",
    "    model.fit(x_train, y_train)\n",
    "    p = model.predict(x_test)\n",
    "    print(f'max_depth = {d} \\t f1_score = {accuracy_score(y_test, p)}')"
   ]
  },
  {
   "cell_type": "code",
   "execution_count": 44,
   "metadata": {},
   "outputs": [
    {
     "data": {
      "text/html": [
       "<style>#sk-container-id-1 {color: black;background-color: white;}#sk-container-id-1 pre{padding: 0;}#sk-container-id-1 div.sk-toggleable {background-color: white;}#sk-container-id-1 label.sk-toggleable__label {cursor: pointer;display: block;width: 100%;margin-bottom: 0;padding: 0.3em;box-sizing: border-box;text-align: center;}#sk-container-id-1 label.sk-toggleable__label-arrow:before {content: \"▸\";float: left;margin-right: 0.25em;color: #696969;}#sk-container-id-1 label.sk-toggleable__label-arrow:hover:before {color: black;}#sk-container-id-1 div.sk-estimator:hover label.sk-toggleable__label-arrow:before {color: black;}#sk-container-id-1 div.sk-toggleable__content {max-height: 0;max-width: 0;overflow: hidden;text-align: left;background-color: #f0f8ff;}#sk-container-id-1 div.sk-toggleable__content pre {margin: 0.2em;color: black;border-radius: 0.25em;background-color: #f0f8ff;}#sk-container-id-1 input.sk-toggleable__control:checked~div.sk-toggleable__content {max-height: 200px;max-width: 100%;overflow: auto;}#sk-container-id-1 input.sk-toggleable__control:checked~label.sk-toggleable__label-arrow:before {content: \"▾\";}#sk-container-id-1 div.sk-estimator input.sk-toggleable__control:checked~label.sk-toggleable__label {background-color: #d4ebff;}#sk-container-id-1 div.sk-label input.sk-toggleable__control:checked~label.sk-toggleable__label {background-color: #d4ebff;}#sk-container-id-1 input.sk-hidden--visually {border: 0;clip: rect(1px 1px 1px 1px);clip: rect(1px, 1px, 1px, 1px);height: 1px;margin: -1px;overflow: hidden;padding: 0;position: absolute;width: 1px;}#sk-container-id-1 div.sk-estimator {font-family: monospace;background-color: #f0f8ff;border: 1px dotted black;border-radius: 0.25em;box-sizing: border-box;margin-bottom: 0.5em;}#sk-container-id-1 div.sk-estimator:hover {background-color: #d4ebff;}#sk-container-id-1 div.sk-parallel-item::after {content: \"\";width: 100%;border-bottom: 1px solid gray;flex-grow: 1;}#sk-container-id-1 div.sk-label:hover label.sk-toggleable__label {background-color: #d4ebff;}#sk-container-id-1 div.sk-serial::before {content: \"\";position: absolute;border-left: 1px solid gray;box-sizing: border-box;top: 0;bottom: 0;left: 50%;z-index: 0;}#sk-container-id-1 div.sk-serial {display: flex;flex-direction: column;align-items: center;background-color: white;padding-right: 0.2em;padding-left: 0.2em;position: relative;}#sk-container-id-1 div.sk-item {position: relative;z-index: 1;}#sk-container-id-1 div.sk-parallel {display: flex;align-items: stretch;justify-content: center;background-color: white;position: relative;}#sk-container-id-1 div.sk-item::before, #sk-container-id-1 div.sk-parallel-item::before {content: \"\";position: absolute;border-left: 1px solid gray;box-sizing: border-box;top: 0;bottom: 0;left: 50%;z-index: -1;}#sk-container-id-1 div.sk-parallel-item {display: flex;flex-direction: column;z-index: 1;position: relative;background-color: white;}#sk-container-id-1 div.sk-parallel-item:first-child::after {align-self: flex-end;width: 50%;}#sk-container-id-1 div.sk-parallel-item:last-child::after {align-self: flex-start;width: 50%;}#sk-container-id-1 div.sk-parallel-item:only-child::after {width: 0;}#sk-container-id-1 div.sk-dashed-wrapped {border: 1px dashed gray;margin: 0 0.4em 0.5em 0.4em;box-sizing: border-box;padding-bottom: 0.4em;background-color: white;}#sk-container-id-1 div.sk-label label {font-family: monospace;font-weight: bold;display: inline-block;line-height: 1.2em;}#sk-container-id-1 div.sk-label-container {text-align: center;}#sk-container-id-1 div.sk-container {/* jupyter's `normalize.less` sets `[hidden] { display: none; }` but bootstrap.min.css set `[hidden] { display: none !important; }` so we also need the `!important` here to be able to override the default hidden behavior on the sphinx rendered scikit-learn.org. See: https://github.com/scikit-learn/scikit-learn/issues/21755 */display: inline-block !important;position: relative;}#sk-container-id-1 div.sk-text-repr-fallback {display: none;}</style><div id=\"sk-container-id-1\" class=\"sk-top-container\"><div class=\"sk-text-repr-fallback\"><pre>DecisionTreeClassifier(max_depth=4)</pre><b>In a Jupyter environment, please rerun this cell to show the HTML representation or trust the notebook. <br />On GitHub, the HTML representation is unable to render, please try loading this page with nbviewer.org.</b></div><div class=\"sk-container\" hidden><div class=\"sk-item\"><div class=\"sk-estimator sk-toggleable\"><input class=\"sk-toggleable__control sk-hidden--visually\" id=\"sk-estimator-id-1\" type=\"checkbox\" checked><label for=\"sk-estimator-id-1\" class=\"sk-toggleable__label sk-toggleable__label-arrow\">DecisionTreeClassifier</label><div class=\"sk-toggleable__content\"><pre>DecisionTreeClassifier(max_depth=4)</pre></div></div></div></div></div>"
      ],
      "text/plain": [
       "DecisionTreeClassifier(max_depth=4)"
      ]
     },
     "execution_count": 44,
     "metadata": {},
     "output_type": "execute_result"
    }
   ],
   "source": [
    "model = DecisionTreeClassifier(max_depth=4)\n",
    "model.fit(x_train, y_train)"
   ]
  },
  {
   "attachments": {},
   "cell_type": "markdown",
   "metadata": {},
   "source": [
    "[[1,2,3,4,5],\n",
    "]"
   ]
  }
 ],
 "metadata": {
  "kernelspec": {
   "display_name": "Python 3 (ipykernel)",
   "language": "python",
   "name": "python3"
  },
  "language_info": {
   "codemirror_mode": {
    "name": "ipython",
    "version": 3
   },
   "file_extension": ".py",
   "mimetype": "text/x-python",
   "name": "python",
   "nbconvert_exporter": "python",
   "pygments_lexer": "ipython3",
   "version": "3.8.7"
  }
 },
 "nbformat": 4,
 "nbformat_minor": 2
}
